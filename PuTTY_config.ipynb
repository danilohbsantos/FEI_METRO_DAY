{
  "nbformat": 4,
  "nbformat_minor": 0,
  "metadata": {
    "colab": {
      "provenance": []
    },
    "kernelspec": {
      "name": "python3",
      "display_name": "Python 3"
    },
    "language_info": {
      "name": "python"
    }
  },
  "cells": [
    {
      "cell_type": "code",
      "execution_count": null,
      "metadata": {
        "id": "97-biZdUteda"
      },
      "outputs": [],
      "source": [
        "login as: admin\n",
        "admin@192.168.1.1's password:\n",
        "\n",
        "\n",
        "BusyBox v1.30.1 () built-in shell (ash)\n",
        "\n",
        " -----------------------------------------------------------------\n",
        "  _____ _   _ _______ ______ _      ____  _____             _____\n",
        " |_   _| \\ | |__   __|  ____| |    |  _ \\|  __ \\     /\\    / ____|\n",
        "   | | |  \\| |  | |  | |__  | |    | |_) | |__) |   /  \\  | (___\n",
        "   | | | . ` |  | |  |  __| | |    |  _ <|  _  /   / /\\ \\  \\___ \\\n",
        "  _| |_| |\\  |  | |  | |____| |____| |_) | | \\ \\  / ____ \\ ____) |\n",
        " |_____|_| \\_|  |_|  |______|______|____/|_|  \\_\\/_/    \\_\\_____/\n",
        "\n",
        " ------------------------------------------------------------------\n",
        "\n",
        "admin@GX 3000:~# ?\n",
        "-ash: ?: not found\n",
        "admin@GX 3000:~# ls\n",
        "admin@GX 3000:~# cd ..\n",
        "admin@GX 3000:/# ls\n",
        "bin      dev      init     overlay  root     tmp      vendor\n",
        "cfg      etc      lib      proc     sbin     usr      webapps\n",
        "data     ini      mnt      rom      sys      var      www\n",
        "admin@GX 3000:/# cd lib/\n",
        "admin@GX 3000:/lib# ls\n",
        "compress_vart.sh          libgcc_s.so.1             preinit\n",
        "config                    libjson_script.so         read_caldata_to_fs.sh\n",
        "debug                     libprovision.so           sbin\n",
        "easymesh.sh               librpc.so                 sound\n",
        "filter                    libsetlbf.so              speedtest\n",
        "firmware                  libssp.so.0               tr069_firewall\n",
        "functions                 libssp.so.0.0.0           uboot-envtools.sh\n",
        "functions.sh              libubox.so                uci\n",
        "hw_def.sh                 libubus.so                update_smp_affinity.sh\n",
        "ipq806x.sh                libuci.so                 update_system_params.sh\n",
        "ld-musl-arm.so.1          libvalidate.so            upgrade\n",
        "ledd                      modem_readd               wifi\n",
        "libblobmsg_json.so        modules                   wifi_interface_helper.sh\n",
        "libc.so                   netifd\n",
        "libfstools.so             network\n",
        "admin@GX 3000:/lib#\n"
      ]
    }
  ]
}